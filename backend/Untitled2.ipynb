{
 "cells": [
  {
   "cell_type": "code",
   "execution_count": 1,
   "metadata": {},
   "outputs": [],
   "source": [
    "# Data Processing Tools\n",
    "import numpy as np\n",
    "import pandas as pd\n",
    "\n",
    "# Clustering\n",
    "from sklearn.cluster import KMeans, AgglomerativeClustering\n",
    "from sklearn.mixture import GaussianMixture\n",
    "from sklearn.utils.testing import ignore_warnings\n",
    "from sklearn.exceptions import ConvergenceWarning"
   ]
  },
  {
   "cell_type": "code",
   "execution_count": 2,
   "metadata": {},
   "outputs": [
    {
     "name": "stdout",
     "output_type": "stream",
     "text": [
      "3883 200 200\n"
     ]
    }
   ],
   "source": [
    "movies = Movie.objects.all()\n",
    "users = User.objects.all()\n",
    "profiles = Profile.objects.all()\n",
    "\n",
    "print(movies.count(), users.count(), profiles.count())"
   ]
  },
  {
   "cell_type": "code",
   "execution_count": 3,
   "metadata": {},
   "outputs": [
    {
     "name": "stdout",
     "output_type": "stream",
     "text": [
      "[[0. 0. 0. ... 0. 0. 0.]\n",
      " [0. 0. 0. ... 0. 0. 0.]\n",
      " [0. 0. 0. ... 0. 0. 0.]\n",
      " ...\n",
      " [0. 0. 0. ... 0. 0. 0.]\n",
      " [0. 0. 0. ... 0. 0. 0.]\n",
      " [0. 0. 0. ... 0. 0. 0.]]\n"
     ]
    }
   ],
   "source": [
    "users_data = np.zeros((users.count(), movies.count()))\n",
    "print(users_data)"
   ]
  },
  {
   "cell_type": "code",
   "execution_count": 4,
   "metadata": {},
   "outputs": [
    {
     "name": "stdout",
     "output_type": "stream",
     "text": [
      "[[5. 0. 0. ... 0. 0. 0.]\n",
      " [0. 0. 0. ... 0. 0. 0.]\n",
      " [0. 0. 0. ... 0. 0. 0.]\n",
      " ...\n",
      " [5. 3. 0. ... 0. 0. 0.]\n",
      " [0. 0. 3. ... 0. 0. 0.]\n",
      " [0. 0. 0. ... 0. 0. 0.]]\n"
     ]
    }
   ],
   "source": [
    "for user in users:\n",
    "    for rating in user.profile.ratings.all():\n",
    "        if rating.movie.id > 3883:\n",
    "            continue\n",
    "        users_data[user.id-1][rating.movie.id-1] += rating.rating\n",
    "        \n",
    "print(users_data)"
   ]
  },
  {
   "cell_type": "code",
   "execution_count": 7,
   "metadata": {},
   "outputs": [],
   "source": [
    "import random\n",
    "\n",
    "def kmeans_custom_clustering_users(k, iters):\n",
    "    \n",
    "    # define variables and data\n",
    "    ml = movies.count()\n",
    "    ul = users.count()\n",
    "    clustering_data = np.full((1, ul), -1)[0]\n",
    "    div = np.vectorize(lambda a, b: round(a/b, 4))\n",
    "    \n",
    "    \n",
    "    # initialize k of centroids randomly\n",
    "    centroids = np.random.randint(5, size=(k, ml)) \n",
    "    \n",
    "    \n",
    "    for _ in range(iters):\n",
    "        \n",
    "        # clustering (find nearest centroid for each users_data by calculating Euclidean distance)\n",
    "        for i in range(ul):\n",
    "            dist = (ml*25)\n",
    "            cluster = -1\n",
    "            for j in range(k):\n",
    "                temp = sum(((users_data[i])-centroids[j])**2)\n",
    "#                 print(\"dist: {}, temp: {}\".format(dist, temp))              \n",
    "                if temp < dist:\n",
    "                    dist = temp\n",
    "                    cluster = j\n",
    "\n",
    "            clustering_data[i] = cluster\n",
    "        \n",
    "\n",
    "        # adjust centroids\n",
    "        centroids = np.zeros((k, ml))\n",
    "        cnt_array = [0 for _ in range(k)]\n",
    "        \n",
    "        for i in range(ul):\n",
    "            cl = clustering_data[i]\n",
    "            cnt_array[cl] += 1\n",
    "            centroids[cl] = np.add(centroids[cl], users_data[i])\n",
    "\n",
    "         \n",
    "        for i in range(k):\n",
    "            cnt = cnt_array[i]\n",
    "            if cnt == 0:\n",
    "                continue\n",
    "            \n",
    "            centroids[i] = div(centroids[i], cnt)\n",
    "            \n",
    "    \n",
    "    return clustering_data"
   ]
  },
  {
   "cell_type": "code",
   "execution_count": 10,
   "metadata": {},
   "outputs": [
    {
     "name": "stdout",
     "output_type": "stream",
     "text": [
      "[2 2 2 5 2 2 2 2 2 4 2 5 2 5 3 5 0 4 4 5 6 4 0 2 2 4 2 2 2 5 2 5 4 2 2 4 2\n",
      " 2 5 2 5 4 5 4 2 5 5 4 2 5 5 2 1 5 5 2 5 0 2 5 5 4 5 5 3 5 5 2 2 5 5 5 4 5\n",
      " 2 2 5 2 5 2 2 3 5 2 5 5 2 2 5 3 2 4 2 6 2 2 2 5 2 2 2 5 3 5 2 2 2 5 2 5 2\n",
      " 5 5 2 5 5 4 4 5 2 2 2 4 5 2 5 3 5 2 2 4 2 2 3 5 4 3 2 4 5 5 2 2 5 5 4 3 4\n",
      " 0 4 0 6 5 5 2 2 0 5 5 5 4 2 3 5 2 4 5 5 1 2 5 5 1 2 4 2 2 2 2 5 4 2 2 2 5\n",
      " 2 0 5 5 2 5 1 2 5 1 5 6 4 0 5]\n"
     ]
    }
   ],
   "source": [
    "clustering_data = kmeans_custom_clustering_users(7, 100)\n",
    "\n",
    "print(clustering_data)"
   ]
  },
  {
   "cell_type": "code",
   "execution_count": 8,
   "metadata": {},
   "outputs": [],
   "source": [
    "def user_clustering(method, k):\n",
    "\n",
    "    # K-Means\n",
    "    if method == 'km':\n",
    "        model = KMeans(n_clusters=k, init=\"random\", random_state=0)\n",
    "        model.fit(users_data)\n",
    "        clustering_data = model.predict(users_data)\n",
    "\n",
    "    # Hierarchy\n",
    "    if method == 'hr':\n",
    "        model = AgglomerativeClustering(n_clusters=k, affinity=\"euclidean\", linkage='ward')\n",
    "        clustering_data = model.fit_predict(users_data)\n",
    "\n",
    "    # EM\n",
    "    if method == 'em':\n",
    "        model = GaussianMixture(n_components=k, init_params='random', random_state=0, max_iter=100)\n",
    "        with ignore_warnings(category=ConvergenceWarning):\n",
    "            model.fit(users_data)\n",
    "        clustering_data = model.predict(users_data)\n",
    "    \n",
    "    return clustering_data"
   ]
  },
  {
   "cell_type": "code",
   "execution_count": 53,
   "metadata": {},
   "outputs": [
    {
     "data": {
      "text/plain": [
       "array([1, 0, 1, 1, 4, 1, 1, 1, 1, 3, 1, 1, 0, 1, 0, 1, 3, 0, 0, 1, 1, 0,\n",
       "       3, 4, 1, 0, 1, 4, 0, 1, 1, 1, 4, 4, 4, 0, 1, 1, 1, 1, 1, 3, 1, 0,\n",
       "       4, 1, 1, 6, 0, 1, 1, 1, 5, 1, 1, 1, 1, 3, 4, 1, 1, 4, 1, 1, 0, 1,\n",
       "       1, 1, 1, 1, 1, 1, 0, 1, 1, 1, 1, 1, 1, 1, 1, 0, 1, 1, 1, 1, 1, 1,\n",
       "       1, 0, 1, 0, 0, 1, 1, 1, 4, 1, 1, 1, 0, 1, 0, 1, 1, 1, 1, 1, 1, 1,\n",
       "       1, 1, 1, 1, 1, 1, 3, 0, 1, 1, 1, 1, 6, 1, 1, 1, 0, 1, 0, 0, 4, 1,\n",
       "       4, 0, 1, 4, 0, 1, 3, 1, 1, 1, 1, 1, 1, 4, 0, 6, 2, 4, 0, 1, 1, 1,\n",
       "       1, 4, 0, 1, 1, 1, 2, 0, 0, 1, 1, 5, 1, 1, 6, 1, 1, 1, 2, 0, 4, 1,\n",
       "       1, 1, 1, 1, 0, 1, 1, 1, 1, 1, 4, 1, 1, 4, 1, 0, 4, 1, 2, 1, 1, 0,\n",
       "       0, 1])"
      ]
     },
     "execution_count": 53,
     "metadata": {},
     "output_type": "execute_result"
    }
   ],
   "source": [
    "kmeans_data = user_clustering('km', 7)\n",
    "kmeans_data"
   ]
  },
  {
   "cell_type": "code",
   "execution_count": 54,
   "metadata": {},
   "outputs": [
    {
     "data": {
      "text/plain": [
       "array([6, 4, 6, 6, 4, 6, 4, 4, 6, 1, 6, 6, 6, 6, 4, 6, 4, 1, 1, 6, 6, 1,\n",
       "       4, 6, 6, 4, 6, 6, 4, 6, 6, 6, 0, 6, 6, 1, 6, 6, 6, 6, 6, 4, 6, 1,\n",
       "       4, 6, 6, 1, 4, 6, 6, 4, 5, 6, 6, 6, 6, 1, 6, 6, 6, 0, 6, 6, 4, 6,\n",
       "       6, 6, 6, 6, 6, 6, 1, 6, 1, 6, 6, 6, 6, 6, 6, 4, 6, 6, 6, 6, 6, 6,\n",
       "       6, 4, 6, 1, 4, 6, 4, 6, 6, 6, 6, 6, 4, 6, 4, 6, 4, 6, 6, 6, 6, 6,\n",
       "       6, 6, 6, 6, 6, 6, 1, 4, 6, 6, 6, 6, 0, 6, 4, 6, 4, 6, 4, 4, 6, 6,\n",
       "       6, 4, 6, 0, 4, 6, 1, 6, 6, 6, 4, 6, 6, 0, 4, 1, 2, 0, 1, 6, 6, 6,\n",
       "       6, 4, 1, 6, 6, 6, 0, 4, 4, 6, 6, 0, 6, 6, 1, 6, 6, 6, 0, 4, 0, 6,\n",
       "       6, 6, 6, 6, 1, 6, 6, 6, 4, 6, 2, 6, 6, 6, 6, 1, 6, 6, 3, 6, 6, 1,\n",
       "       1, 6], dtype=int64)"
      ]
     },
     "execution_count": 54,
     "metadata": {},
     "output_type": "execute_result"
    }
   ],
   "source": [
    "hr_data = user_clustering('hr', 7)\n",
    "hr_data"
   ]
  },
  {
   "cell_type": "code",
   "execution_count": 55,
   "metadata": {},
   "outputs": [
    {
     "data": {
      "text/plain": [
       "array([1, 1, 6, 6, 3, 3, 3, 3, 6, 5, 2, 6, 5, 2, 5, 4, 6, 3, 2, 5, 3, 2,\n",
       "       1, 3, 6, 2, 2, 4, 5, 6, 0, 2, 1, 1, 2, 6, 2, 4, 4, 2, 6, 5, 5, 0,\n",
       "       2, 3, 5, 5, 2, 6, 5, 2, 4, 6, 4, 1, 3, 2, 2, 6, 1, 1, 4, 1, 3, 4,\n",
       "       6, 5, 2, 5, 2, 6, 1, 1, 1, 2, 5, 5, 1, 6, 2, 2, 5, 3, 1, 0, 2, 3,\n",
       "       3, 1, 5, 5, 4, 3, 1, 3, 2, 4, 2, 6, 0, 2, 5, 6, 0, 6, 6, 3, 4, 3,\n",
       "       4, 5, 6, 3, 6, 1, 1, 6, 1, 3, 5, 3, 6, 4, 2, 3, 1, 0, 0, 2, 2, 6,\n",
       "       6, 4, 1, 6, 6, 0, 3, 1, 4, 2, 3, 4, 1, 4, 1, 3, 6, 6, 4, 1, 3, 6,\n",
       "       5, 3, 5, 5, 2, 5, 5, 5, 2, 2, 6, 0, 1, 5, 2, 5, 1, 5, 3, 1, 3, 2,\n",
       "       4, 3, 2, 0, 5, 1, 2, 4, 3, 3, 3, 5, 3, 3, 2, 6, 1, 2, 3, 1, 0, 3,\n",
       "       0, 1], dtype=int64)"
      ]
     },
     "execution_count": 55,
     "metadata": {},
     "output_type": "execute_result"
    }
   ],
   "source": [
    "em_data = user_clustering('em', 7)\n",
    "em_data"
   ]
  },
  {
   "cell_type": "code",
   "execution_count": 30,
   "metadata": {},
   "outputs": [],
   "source": [
    "for i in range(users.count()):\n",
    "    user = users[i]\n",
    "    user.profile.cluster = kmeans_data[i]\n",
    "    user.profile.save()"
   ]
  },
  {
   "cell_type": "code",
   "execution_count": 41,
   "metadata": {},
   "outputs": [
    {
     "name": "stdout",
     "output_type": "stream",
     "text": [
      "user10\n",
      "user17\n",
      "user23\n",
      "user42\n",
      "user58\n",
      "user117\n",
      "user139\n"
     ]
    }
   ],
   "source": [
    "related_profiles = profiles.filter(cluster__exact=3)\n",
    "for profile in related_profiles:\n",
    "    print(profile.user.username)"
   ]
  },
  {
   "cell_type": "code",
   "execution_count": null,
   "metadata": {},
   "outputs": [],
   "source": []
  }
 ],
 "metadata": {
  "kernelspec": {
   "display_name": "Django Shell-Plus",
   "language": "python",
   "name": "django_extensions"
  },
  "language_info": {
   "codemirror_mode": {
    "name": "ipython",
    "version": 3
   },
   "file_extension": ".py",
   "mimetype": "text/x-python",
   "name": "python",
   "nbconvert_exporter": "python",
   "pygments_lexer": "ipython3",
   "version": "3.5.3"
  }
 },
 "nbformat": 4,
 "nbformat_minor": 2
}
